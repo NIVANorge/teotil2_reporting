{
 "cells": [
  {
   "cell_type": "code",
   "execution_count": 1,
   "id": "6d377a93-102a-48d5-a3eb-281e5279eb0d",
   "metadata": {},
   "outputs": [],
   "source": [
    "import glob\n",
    "import os\n",
    "\n",
    "import pandas as pd"
   ]
  },
  {
   "cell_type": "markdown",
   "id": "c9576a42-9c25-40a2-9677-4e5ad00bfc01",
   "metadata": {},
   "source": [
    "# Merge old and new TEOTIL results\n",
    "\n",
    "In earlier reports, for consistency we have used the same data reported previously for early years and simply extended the data tables by one year (even though the whole TEOTIL output changes due to e.g. NVE updating their historic discharge time series).\n",
    "\n",
    "This notebook reads the old data from Jose (for 1990 to 2017) and then adds new data for a 2018 onwards."
   ]
  },
  {
   "cell_type": "code",
   "execution_count": 2,
   "id": "c8418f3e-3924-4bf8-b5ca-994f096320d9",
   "metadata": {},
   "outputs": [],
   "source": [
    "# Map James' updated file names to those used by Jose\n",
    "fname_dict = {\n",
    "    \"Norges kystområder_p.csv\": \"Hele_kysten_p.csv\",\n",
    "    \"Norges kystområder_n.csv\": \"Hele_kysten_n.csv\",\n",
    "    \"Sverige – Strømtangen fyr_p.csv\": \"Sverige_Strømtangen_p.csv\",\n",
    "    \"Sverige – Strømtangen fyr_n.csv\": \"Sverige_Strømtangen_n.csv\",\n",
    "    \"Indre Oslofjord_p.csv\": \"Indre_Oslofjord_p.csv\",\n",
    "    \"Indre Oslofjord_n.csv\": \"Indre_Oslofjord_n.csv\",\n",
    "    \"Svenskegrensa – Lindesnes_p.csv\": \"Sverige_Lindesnes_p.csv\",\n",
    "    \"Svenskegrensa – Lindesnes_n.csv\": \"Sverige_Lindesnes_n.csv\",\n",
    "    \"Lindesnes – Stad_p.csv\": \"Lindesnes_stad_p.csv\",\n",
    "    \"Lindesnes – Stad_n.csv\": \"Lindesnes_stad_n.csv\",\n",
    "    \"Stad – Russland_p.csv\": \"Stad_Russland_p.csv\",\n",
    "    \"Stad – Russland_n.csv\": \"Stad_Russland_n.csv\",\n",
    "    \"Glomma_p.csv\": \"Glomma_p.csv\",\n",
    "    \"Glomma_n.csv\": \"Glomma_n.csv\",\n",
    "    \"Vest-Viken_p.csv\": \"Vest-Viken_p.csv\",\n",
    "    \"Vest-Viken_n.csv\": \"Vest-Viken_n.csv\",\n",
    "    \"Agder_p.csv\": \"Agder_p.csv\",\n",
    "    \"Agder_n.csv\": \"Agder_n.csv\",\n",
    "    \"Rogaland_p.csv\": \"Rogaland_p.csv\",\n",
    "    \"Rogaland_n.csv\": \"Rogaland_n.csv\",\n",
    "    \"Hordaland_p.csv\": \"Hordaland_p.csv\",\n",
    "    \"Hordaland_n.csv\": \"Hordaland_n.csv\",\n",
    "    \"Sogn og Fjordane_p.csv\": \"Sogn_og_Fjordane_p.csv\",\n",
    "    \"Sogn og Fjordane_n.csv\": \"Sogn_og_Fjordane_n.csv\",\n",
    "    \"Møre og Romsdal_p.csv\": \"Møre_og_Romsdal_p.csv\",\n",
    "    \"Møre og Romsdal_n.csv\": \"Møre_og_Romsdal_n.csv\",\n",
    "    \"Trøndelag_p.csv\": \"Trøndelag_p.csv\",\n",
    "    \"Trøndelag_n.csv\": \"Trøndelag_n.csv\",\n",
    "    \"Nordland_p.csv\": \"Nordland_p.csv\",\n",
    "    \"Nordland_n.csv\": \"Nordland_n.csv\",\n",
    "    \"Troms_p.csv\": \"Troms_p.csv\",\n",
    "    \"Troms_n.csv\": \"Troms_n.csv\",\n",
    "    \"Finnmark_p.csv\": \"Finnmark_p.csv\",\n",
    "    \"Finnmark_n.csv\": \"Finnmark_n.csv\",\n",
    "    \"Nordsjøen_p.csv\": \"Nordsjøen_p.csv\",\n",
    "    \"Nordsjøen_n.csv\": \"Nordsjøen_n.csv\",\n",
    "    \"Norskehavet_p.csv\": \"Norskehav_p.csv\",\n",
    "    \"Norskehavet_n.csv\": \"Norskehav_n.csv\",\n",
    "    \"Barentshavet_p.csv\": \"Barentshavet_p.csv\",\n",
    "    \"Barentshavet_n.csv\": \"Barentshavet_n.csv\",\n",
    "}"
   ]
  },
  {
   "cell_type": "code",
   "execution_count": 3,
   "id": "8dc396da-0bb0-4d1d-a768-086c4b17ddec",
   "metadata": {},
   "outputs": [],
   "source": [
    "old_st, old_end = 1990, 2017\n",
    "\n",
    "# Merge files and save\n",
    "old_fold = r\"../report_2020/jose_data\"\n",
    "new_fold = r\"../report_2020/data\"\n",
    "merge_fold = r\"../report_2020/jose_data_updated_2018-20\"\n",
    "\n",
    "for new_fname, old_fname in fname_dict.items():\n",
    "    new_fpath = os.path.join(new_fold, new_fname)\n",
    "    old_fpath = os.path.join(old_fold, old_fname)\n",
    "    out_fpath = os.path.join(merge_fold, new_fname)\n",
    "\n",
    "    old_df = pd.read_csv(old_fpath)\n",
    "    old_df = old_df.query(\"@old_st <= År <= @old_end\")\n",
    "    old_df.rename(\n",
    "        {\"Befolkning\": \"Avløp\", \"Bakgrun\": \"Bakgrunn\"}, axis=\"columns\", inplace=True\n",
    "    )\n",
    "\n",
    "    new_df = pd.read_csv(new_fpath)\n",
    "\n",
    "    merge_df = pd.concat([old_df, new_df], axis=\"rows\").round(0).astype(int)\n",
    "    merge_df.to_csv(out_fpath, index=False)"
   ]
  }
 ],
 "metadata": {
  "kernelspec": {
   "display_name": "Python 3 (ipykernel)",
   "language": "python",
   "name": "python3"
  },
  "language_info": {
   "codemirror_mode": {
    "name": "ipython",
    "version": 3
   },
   "file_extension": ".py",
   "mimetype": "text/x-python",
   "name": "python",
   "nbconvert_exporter": "python",
   "pygments_lexer": "ipython3",
   "version": "3.11.6"
  }
 },
 "nbformat": 4,
 "nbformat_minor": 5
}
