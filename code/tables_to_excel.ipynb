{
 "cells": [
  {
   "cell_type": "code",
   "execution_count": 1,
   "id": "0196dfaa-fd49-4585-9516-f5ee41764183",
   "metadata": {},
   "outputs": [],
   "source": [
    "import os\n",
    "\n",
    "import pandas as pd"
   ]
  },
  {
   "cell_type": "markdown",
   "id": "99733a54-4c59-408d-860b-0cefbe0dd86e",
   "metadata": {},
   "source": [
    "# Report tables to Excel\n",
    "\n",
    "Miljødirektoratet would like to have the data tables from the report in Excel format."
   ]
  },
  {
   "cell_type": "code",
   "execution_count": 2,
   "id": "e231ab0c-511e-4af8-a66c-e8f785462907",
   "metadata": {},
   "outputs": [],
   "source": [
    "# Report to process\n",
    "year = 2022"
   ]
  },
  {
   "cell_type": "code",
   "execution_count": 3,
   "id": "d257d77d-b8b8-4175-8474-341fd65af797",
   "metadata": {},
   "outputs": [],
   "source": [
    "# Excel file to create\n",
    "xl_path = f\"../report_{year}/report_{year}_data_tables.xlsx\"\n",
    "\n",
    "# Folder containing report data\n",
    "data_fold = f\"../report_{year}/data\"\n",
    "\n",
    "# Regions in order they appear in report\n",
    "regions = [\n",
    "    # Definerte kystavsnitt (chapter 5)\n",
    "    \"Norges kystområder\",\n",
    "    \"Sverige – Strømtangen fyr\",\n",
    "    \"Indre Oslofjord\",\n",
    "    \"Svenskegrensa – Lindesnes\",\n",
    "    \"Lindesnes – Stad\",\n",
    "    \"Stad – Russland\",\n",
    "    # Norske vannregioner (chapter 6)\n",
    "    \"Glomma\",\n",
    "    \"Vest-Viken\",\n",
    "    \"Agder\",\n",
    "    \"Rogaland\",\n",
    "    \"Hordaland\",\n",
    "    \"Sogn og Fjordane\",\n",
    "    \"Møre og Romsdal\",\n",
    "    \"Trøndelag\",\n",
    "    \"Nordland\",\n",
    "    \"Troms\",\n",
    "    \"Finnmark\",\n",
    "    # Norske forvaltingsplanområder (chapter 7)\n",
    "    \"Nordsjøen\",\n",
    "    \"Norskehavet\",\n",
    "    \"Barentshavet\",\n",
    "]\n",
    "\n",
    "pars = [\"p\", \"n\"]\n",
    "\n",
    "with pd.ExcelWriter(xl_path, engine=\"openpyxl\") as writer:\n",
    "    for region in regions:\n",
    "        for par in pars:\n",
    "            csv_path = os.path.join(data_fold, f\"{region}_{par}.csv\")\n",
    "            df = pd.read_csv(csv_path)\n",
    "            df.to_excel(writer, sheet_name=f\"{region} ({par.capitalize()})\", index=False)"
   ]
  }
 ],
 "metadata": {
  "kernelspec": {
   "display_name": "Python 3 (ipykernel)",
   "language": "python",
   "name": "python3"
  },
  "language_info": {
   "codemirror_mode": {
    "name": "ipython",
    "version": 3
   },
   "file_extension": ".py",
   "mimetype": "text/x-python",
   "name": "python",
   "nbconvert_exporter": "python",
   "pygments_lexer": "ipython3",
   "version": "3.11.6"
  }
 },
 "nbformat": 4,
 "nbformat_minor": 5
}
